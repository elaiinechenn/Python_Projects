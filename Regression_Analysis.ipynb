{
  "nbformat": 4,
  "nbformat_minor": 0,
  "metadata": {
    "colab": {
      "provenance": [],
      "include_colab_link": true
    },
    "kernelspec": {
      "name": "python3",
      "display_name": "Python 3"
    },
    "language_info": {
      "name": "python"
    }
  },
  "cells": [
    {
      "cell_type": "markdown",
      "metadata": {
        "id": "view-in-github",
        "colab_type": "text"
      },
      "source": [
        "<a href=\"https://colab.research.google.com/github/elaiinechenn/Python_Projects/blob/main/Regression_Analysis.ipynb\" target=\"_parent\"><img src=\"https://colab.research.google.com/assets/colab-badge.svg\" alt=\"Open In Colab\"/></a>"
      ]
    },
    {
      "cell_type": "code",
      "metadata": {
        "id": "6bMdK-ivq3Qc"
      },
      "source": [
        "import numpy as np\n",
        "import pandas as pd\n",
        "from scipy import stats\n",
        "import statsmodels.api as sm  #api加進來，sm套件\n",
        "import matplotlib.pyplot as plt"
      ],
      "execution_count": 1,
      "outputs": []
    },
    {
      "cell_type": "code",
      "metadata": {
        "id": "kVTVrKX0vakU"
      },
      "source": [
        "from sklearn.preprocessing import StandardScaler    #平均值和標準差\n",
        "                                                    #https://ithelp.ithome.com.tw/articles/10240494"
      ],
      "execution_count": 2,
      "outputs": []
    },
    {
      "cell_type": "code",
      "metadata": {
        "colab": {
          "base_uri": "https://localhost:8080/"
        },
        "id": "bUuV_KJx5I-8",
        "outputId": "c7191e60-146f-4c59-8e42-603a7536804a"
      },
      "source": [
        "from google.colab import drive\n",
        "drive.mount('/content/drive')"
      ],
      "execution_count": 3,
      "outputs": [
        {
          "output_type": "stream",
          "name": "stdout",
          "text": [
            "Mounted at /content/drive\n"
          ]
        }
      ]
    },
    {
      "cell_type": "code",
      "metadata": {
        "id": "9tw34c4oOjmL"
      },
      "source": [
        "import seaborn as sns"
      ],
      "execution_count": 4,
      "outputs": []
    },
    {
      "cell_type": "markdown",
      "metadata": {
        "id": "qmmgfk1nYhpY"
      },
      "source": [
        "# 相關文獻\n",
        "\n",
        "[Mosky-stat-reg](https://speakerdeck.com/mosky/statistical-regression-with-python?slide=63)\n",
        "\n",
        "\n"
      ]
    },
    {
      "cell_type": "markdown",
      "metadata": {
        "id": "JQ3-BJAv_hcb"
      },
      "source": [
        "# 資料解讀"
      ]
    },
    {
      "cell_type": "code",
      "metadata": {
        "id": "0IrlpLOZEqI-"
      },
      "source": [
        "df_data = pd.read_excel('/content/drive/MyDrive/Housing.xlsx')"
      ],
      "execution_count": 5,
      "outputs": []
    },
    {
      "cell_type": "code",
      "metadata": {
        "colab": {
          "base_uri": "https://localhost:8080/",
          "height": 473
        },
        "id": "t0PNAhMgcXjr",
        "outputId": "0ef34b44-6f0b-4eb0-8d13-09af96b2e022"
      },
      "source": [
        "sns.ecdfplot(data=df_data, x='House Price')"
      ],
      "execution_count": 6,
      "outputs": [
        {
          "output_type": "execute_result",
          "data": {
            "text/plain": [
              "<Axes: xlabel='House Price', ylabel='Proportion'>"
            ]
          },
          "metadata": {},
          "execution_count": 6
        },
        {
          "output_type": "display_data",
          "data": {
            "text/plain": [
              "<Figure size 640x480 with 1 Axes>"
            ],
            "image/png": "[encoded data removed]"
          },
          "metadata": {}
        }
      ]
    },
    {
      "cell_type": "code",
      "metadata": {
        "id": "H0K_2YPX6Nnq"
      },
      "source": [
        "#df_data.boxplot()"
      ],
      "execution_count": 7,
      "outputs": []
    },
    {
      "cell_type": "code",
      "metadata": {
        "colab": {
          "base_uri": "https://localhost:8080/",
          "height": 206
        },
        "id": "9nfp9hjvFkr6",
        "outputId": "9f626454-bb6f-47ee-e6cf-1c5be74cdf47"
      },
      "source": [
        "df_data.head() \n",
        "\n",
        "# House Price: 房價\n",
        "# House Size (sq.ft.): 房子大小\n",
        "# State: 州別\n",
        "# Number of Rooms: 房間數量\n",
        "# Year of Construction: 建造年份"
      ],
      "execution_count": 8,
      "outputs": [
        {
          "output_type": "execute_result",
          "data": {
            "text/plain": [
              "   House Price  House Size (sq.ft.) State  Number of Rooms  \\\n",
              "0      1116000                 1940    IN                8   \n",
              "1       860000                 1300    IN                5   \n",
              "2       818400                 1420    IN                6   \n",
              "3      1000000                 1680    IN                7   \n",
              "4       640000                 1270    IN                5   \n",
              "\n",
              "   Year of Construction  \n",
              "0                  2002  \n",
              "1                  1992  \n",
              "2                  1987  \n",
              "3                  2000  \n",
              "4                  1995  "
            ],
            "text/html": [
              "\n",
              "  <div id=\"df-17bbff07-8d13-4c97-b117-fc6c15e17dbb\">\n",
              "    <div class=\"colab-df-container\">\n",
              "      <div>\n",
              "<style scoped>\n",
              "    .dataframe tbody tr th:only-of-type {\n",
              "        vertical-align: middle;\n",
              "    }\n",
              "\n",
              "    .dataframe tbody tr th {\n",
              "        vertical-align: top;\n",
              "    }\n",
              "\n",
              "    .dataframe thead th {\n",
              "        text-align: right;\n",
              "    }\n",
              "</style>\n",
              "<table border=\"1\" class=\"dataframe\">\n",
              "  <thead>\n",
              "    <tr style=\"text-align: right;\">\n",
              "      <th></th>\n",
              "      <th>House Price</th>\n",
              "      <th>House Size (sq.ft.)</th>\n",
              "      <th>State</th>\n",
              "      <th>Number of Rooms</th>\n",
              "      <th>Year of Construction</th>\n",
              "    </tr>\n",
              "  </thead>\n",
              "  <tbody>\n",
              "    <tr>\n",
              "      <th>0</th>\n",
              "      <td>1116000</td>\n",
              "      <td>1940</td>\n",
              "      <td>IN</td>\n",
              "      <td>8</td>\n",
              "      <td>2002</td>\n",
              "    </tr>\n",
              "    <tr>\n",
              "      <th>1</th>\n",
              "      <td>860000</td>\n",
              "      <td>1300</td>\n",
              "      <td>IN</td>\n",
              "      <td>5</td>\n",
              "      <td>1992</td>\n",
              "    </tr>\n",
              "    <tr>\n",
              "      <th>2</th>\n",
              "      <td>818400</td>\n",
              "      <td>1420</td>\n",
              "      <td>IN</td>\n",
              "      <td>6</td>\n",
              "      <td>1987</td>\n",
              "    </tr>\n",
              "    <tr>\n",
              "      <th>3</th>\n",
              "      <td>1000000</td>\n",
              "      <td>1680</td>\n",
              "      <td>IN</td>\n",
              "      <td>7</td>\n",
              "      <td>2000</td>\n",
              "    </tr>\n",
              "    <tr>\n",
              "      <th>4</th>\n",
              "      <td>640000</td>\n",
              "      <td>1270</td>\n",
              "      <td>IN</td>\n",
              "      <td>5</td>\n",
              "      <td>1995</td>\n",
              "    </tr>\n",
              "  </tbody>\n",
              "</table>\n",
              "</div>\n",
              "      <button class=\"colab-df-convert\" onclick=\"convertToInteractive('df-17bbff07-8d13-4c97-b117-fc6c15e17dbb')\"\n",
              "              title=\"Convert this dataframe to an interactive table.\"\n",
              "              style=\"display:none;\">\n",
              "        \n",
              "  <svg xmlns=\"http://www.w3.org/2000/svg\" height=\"24px\"viewBox=\"0 0 24 24\"\n",
              "       width=\"24px\">\n",
              "    <path d=\"M0 0h24v24H0V0z\" fill=\"none\"/>\n",
              "    <path d=\"M18.56 5.44l.94 2.06.94-2.06 2.06-.94-2.06-.94-.94-2.06-.94 2.06-2.06.94zm-11 1L8.5 8.5l.94-2.06 2.06-.94-2.06-.94L8.5 2.5l-.94 2.06-2.06.94zm10 10l.94 2.06.94-2.06 2.06-.94-2.06-.94-.94-2.06-.94 2.06-2.06.94z\"/><path d=\"M17.41 7.96l-1.37-1.37c-.4-.4-.92-.59-1.43-.59-.52 0-1.04.2-1.43.59L10.3 9.45l-7.72 7.72c-.78.78-.78 2.05 0 2.83L4 21.41c.39.39.9.59 1.41.59.51 0 1.02-.2 1.41-.59l7.78-7.78 2.81-2.81c.8-.78.8-2.07 0-2.86zM5.41 20L4 18.59l7.72-7.72 1.47 1.35L5.41 20z\"/>\n",
              "  </svg>\n",
              "      </button>\n",
              "      \n",
              "  <style>\n",
              "    .colab-df-container {\n",
              "      display:flex;\n",
              "      flex-wrap:wrap;\n",
              "      gap: 12px;\n",
              "    }\n",
              "\n",
              "    .colab-df-convert {\n",
              "      background-color: #E8F0FE;\n",
              "      border: none;\n",
              "      border-radius: 50%;\n",
              "      cursor: pointer;\n",
              "      display: none;\n",
              "      fill: #1967D2;\n",
              "      height: 32px;\n",
              "      padding: 0 0 0 0;\n",
              "      width: 32px;\n",
              "    }\n",
              "\n",
              "    .colab-df-convert:hover {\n",
              "      background-color: #E2EBFA;\n",
              "      box-shadow: 0px 1px 2px rgba(60, 64, 67, 0.3), 0px 1px 3px 1px rgba(60, 64, 67, 0.15);\n",
              "      fill: #174EA6;\n",
              "    }\n",
              "\n",
              "    [theme=dark] .colab-df-convert {\n",
              "      background-color: #3B4455;\n",
              "      fill: #D2E3FC;\n",
              "    }\n",
              "\n",
              "    [theme=dark] .colab-df-convert:hover {\n",
              "      background-color: #434B5C;\n",
              "      box-shadow: 0px 1px 3px 1px rgba(0, 0, 0, 0.15);\n",
              "      filter: drop-shadow(0px 1px 2px rgba(0, 0, 0, 0.3));\n",
              "      fill: #FFFFFF;\n",
              "    }\n",
              "  </style>\n",
              "\n",
              "      <script>\n",
              "        const buttonEl =\n",
              "          document.querySelector('#df-17bbff07-8d13-4c97-b117-fc6c15e17dbb button.colab-df-convert');\n",
              "        buttonEl.style.display =\n",
              "          google.colab.kernel.accessAllowed ? 'block' : 'none';\n",
              "\n",
              "        async function convertToInteractive(key) {\n",
              "          const element = document.querySelector('#df-17bbff07-8d13-4c97-b117-fc6c15e17dbb');\n",
              "          const dataTable =\n",
              "            await google.colab.kernel.invokeFunction('convertToInteractive',\n",
              "                                                     [key], {});\n",
              "          if (!dataTable) return;\n",
              "\n",
              "          const docLinkHtml = 'Like what you see? Visit the ' +\n",
              "            '<a target=\"_blank\" href=https://colab.research.google.com/notebooks/data_table.ipynb>data table notebook</a>'\n",
              "            + ' to learn more about interactive tables.';\n",
              "          element.innerHTML = '';\n",
              "          dataTable['output_type'] = 'display_data';\n",
              "          await google.colab.output.renderOutput(dataTable, element);\n",
              "          const docLink = document.createElement('div');\n",
              "          docLink.innerHTML = docLinkHtml;\n",
              "          element.appendChild(docLink);\n",
              "        }\n",
              "      </script>\n",
              "    </div>\n",
              "  </div>\n",
              "  "
            ]
          },
          "metadata": {},
          "execution_count": 8
        }
      ]
    },
    {
      "cell_type": "markdown",
      "metadata": {
        "id": "sIvGMFc8_tbj"
      },
      "source": [
        "# 一元回歸：一個元素的回歸\n"
      ]
    },
    {
      "cell_type": "code",
      "metadata": {
        "colab": {
          "base_uri": "https://localhost:8080/",
          "height": 465
        },
        "id": "LcOLWzttFjes",
        "outputId": "be48014f-ff27-4024-beda-e904bd48f2dd"
      },
      "source": [
        "X = df_data['House Size (sq.ft.)']     #散點圖\n",
        "Y = df_data['House Price']             #房價\n",
        "\n",
        "plt.scatter(X,Y,s=70)                  #s:改變點的大小\n",
        "plt.axis([0, 2500, 0, 1500000])\n",
        "plt.xlabel('House Size (sq.ft.)')      #xlabel名稱\n",
        "plt.ylabel('House Price')              #ylabel名稱\n",
        "plt.show()"
      ],
      "execution_count": 9,
      "outputs": [
        {
          "output_type": "display_data",
          "data": {
            "text/plain": [
              "<Figure size 640x480 with 1 Axes>"
            ],
            "image/png": "[encoded data removed]"
          },
          "metadata": {}
        }
      ]
    },
    {
      "cell_type": "code",
      "metadata": {
        "id": "veNSHJemJRqy"
      },
      "source": [
        "X1 = sm.add_constant(X)"
      ],
      "execution_count": 10,
      "outputs": []
    },
    {
      "cell_type": "code",
      "metadata": {
        "id": "dfw-QXYDGQ-B"
      },
      "source": [
        "model_reg = sm.OLS(Y, X1).fit()       #sm套件，可以幫忙排版"
      ],
      "execution_count": 11,
      "outputs": []
    },
    {
      "cell_type": "code",
      "metadata": {
        "colab": {
          "base_uri": "https://localhost:8080/"
        },
        "id": "Qm3SJtFAJqXz",
        "outputId": "6f5413c5-87f0-43e9-9b93-6cc3b101ad43"
      },
      "source": [
        "print(model_reg.summary2())           #理解線性迴歸在幹嘛，會用model_reg的套件\n",
        "\n",
        "#dependent variable異變數，R-squared跟Adj. R-squared基本上是一樣的，一個是有調整過的\n",
        "\n",
        "#y=ax+b\n",
        "#a: House Size\n",
        "#p: 要小於0.05"
      ],
      "execution_count": 12,
      "outputs": [
        {
          "output_type": "stream",
          "name": "stdout",
          "text": [
            "                        Results: Ordinary least squares\n",
            "===============================================================================\n",
            "Model:                  OLS                  Adj. R-squared:         0.660     \n",
            "Dependent Variable:     House Price          AIC:                    524.8504  \n",
            "Date:                   2023-06-03 19:04     BIC:                    526.8419  \n",
            "No. Observations:       20                   Log-Likelihood:         -260.43   \n",
            "Df Model:               1                    F-statistic:            37.95     \n",
            "Df Residuals:           18                   Prob (F-statistic):     8.13e-06  \n",
            "R-squared:              0.678                Scale:                  1.3286e+10\n",
            "-------------------------------------------------------------------------------\n",
            "                       Coef.     Std.Err.    t    P>|t|    [0.025      0.975]  \n",
            "-------------------------------------------------------------------------------\n",
            "const               260806.2361 97562.8498 2.6732 0.0155 55834.2946 465778.1775\n",
            "House Size (sq.ft.)    401.9163    65.2430 6.1603 0.0000   264.8458    538.9867\n",
            "-------------------------------------------------------------------------------\n",
            "Omnibus:                   1.238             Durbin-Watson:               1.810\n",
            "Prob(Omnibus):             0.538             Jarque-Bera (JB):            0.715\n",
            "Skew:                      -0.459            Prob(JB):                    0.699\n",
            "Kurtosis:                  2.884             Condition No.:               5660 \n",
            "===============================================================================\n",
            "* The condition number is large (6e+03). This might indicate             strong\n",
            "multicollinearity or other numerical problems.\n"
          ]
        }
      ]
    },
    {
      "cell_type": "code",
      "metadata": {
        "id": "HCo8YHHAJ1EW",
        "colab": {
          "base_uri": "https://localhost:8080/"
        },
        "outputId": "c43f935f-b6b6-48f5-9091-a765dfc27c7a"
      },
      "source": [
        "260806+ 1000 * 402      #402: House Size"
      ],
      "execution_count": 13,
      "outputs": [
        {
          "output_type": "execute_result",
          "data": {
            "text/plain": [
              "662806"
            ]
          },
          "metadata": {},
          "execution_count": 13
        }
      ]
    },
    {
      "cell_type": "code",
      "metadata": {
        "colab": {
          "base_uri": "https://localhost:8080/"
        },
        "id": "SsaLbceHNjCe",
        "outputId": "d78f2915-05a3-4518-b505-c2575e763e57"
      },
      "source": [
        "stats.linregress(X,Y)  #slope:斜率，節距：intercept"
      ],
      "execution_count": 14,
      "outputs": [
        {
          "output_type": "execute_result",
          "data": {
            "text/plain": [
              "LinregressResult(slope=401.91628631922595, intercept=260806.2360560964, rvalue=0.8235775534696924, pvalue=8.129642377231308e-06, stderr=65.24299510636492, intercept_stderr=97562.84981403727)"
            ]
          },
          "metadata": {},
          "execution_count": 14
        }
      ]
    },
    {
      "cell_type": "code",
      "metadata": {
        "id": "b0RMNjFcNvfO"
      },
      "source": [
        "from sklearn.linear_model import LinearRegression        #未來會很常用到這個套件"
      ],
      "execution_count": 15,
      "outputs": []
    },
    {
      "cell_type": "code",
      "metadata": {
        "id": "43K4UpESPD15",
        "colab": {
          "base_uri": "https://localhost:8080/"
        },
        "outputId": "244d697a-4cd9-4a76-b751-02b37a061043"
      },
      "source": [
        "X.values.reshape(-1,1)                                   #做維度的處理"
      ],
      "execution_count": 16,
      "outputs": [
        {
          "output_type": "execute_result",
          "data": {
            "text/plain": [
              "array([[1940],\n",
              "       [1300],\n",
              "       [1420],\n",
              "       [1680],\n",
              "       [1270],\n",
              "       [1850],\n",
              "       [1000],\n",
              "       [1100],\n",
              "       [1600],\n",
              "       [1000],\n",
              "       [2150],\n",
              "       [1900],\n",
              "       [2200],\n",
              "       [1100],\n",
              "       [ 860],\n",
              "       [1325],\n",
              "       [1350],\n",
              "       [1600],\n",
              "       [ 950],\n",
              "       [1250]])"
            ]
          },
          "metadata": {},
          "execution_count": 16
        }
      ]
    },
    {
      "cell_type": "code",
      "metadata": {
        "colab": {
          "base_uri": "https://localhost:8080/"
        },
        "id": "Y-cWS0BEOf_J",
        "outputId": "93c6d221-7474-4369-d12d-90aff0a8cf07"
      },
      "source": [
        "reg = LinearRegression().fit(X.values.reshape(-1, 1), Y.values.reshape(-1, 1))\n",
        "\n",
        "reg.coef_, reg.intercept_"
      ],
      "execution_count": 17,
      "outputs": [
        {
          "output_type": "execute_result",
          "data": {
            "text/plain": [
              "(array([[401.91628632]]), array([260806.2360561]))"
            ]
          },
          "metadata": {},
          "execution_count": 17
        }
      ]
    },
    {
      "cell_type": "code",
      "metadata": {
        "id": "HxQY2spWdP0K"
      },
      "source": [],
      "execution_count": 17,
      "outputs": []
    },
    {
      "cell_type": "markdown",
      "metadata": {
        "id": "bT3v92im_8FY"
      },
      "source": [
        "# 多元回歸"
      ]
    },
    {
      "cell_type": "code",
      "metadata": {
        "colab": {
          "base_uri": "https://localhost:8080/",
          "height": 231
        },
        "id": "1HrtYD5QAfud",
        "outputId": "c7646d90-2088-44b0-fde6-c8af5d06b7a6"
      },
      "source": [
        "df_data.corr()      #Number of Rooms,(sq.ft.)：相關性很高 （相關性極高的特徵會去掉，沒有太大的幫助）"
      ],
      "execution_count": 18,
      "outputs": [
        {
          "output_type": "stream",
          "name": "stderr",
          "text": [
            "<ipython-input-18-1e49db4f212d>:1: FutureWarning: The default value of numeric_only in DataFrame.corr is deprecated. In a future version, it will default to False. Select only valid columns or specify the value of numeric_only to silence this warning.\n",
            "  df_data.corr()      #Number of Rooms,(sq.ft.)：相關性很高 （相關性極高的特徵會去掉，沒有太大的幫助）\n"
          ]
        },
        {
          "output_type": "execute_result",
          "data": {
            "text/plain": [
              "                      House Price  House Size (sq.ft.)  Number of Rooms  \\\n",
              "House Price              1.000000             0.823578         0.795015   \n",
              "House Size (sq.ft.)      0.823578             1.000000         0.936765   \n",
              "Number of Rooms          0.795015             0.936765         1.000000   \n",
              "Year of Construction     0.292898             0.067741         0.104080   \n",
              "\n",
              "                      Year of Construction  \n",
              "House Price                       0.292898  \n",
              "House Size (sq.ft.)               0.067741  \n",
              "Number of Rooms                   0.104080  \n",
              "Year of Construction              1.000000  "
            ],
            "text/html": [
              "\n",
              "  <div id=\"df-5f0df9b0-bb8d-49c6-a87d-2f2a74459cec\">\n",
              "    <div class=\"colab-df-container\">\n",
              "      <div>\n",
              "<style scoped>\n",
              "    .dataframe tbody tr th:only-of-type {\n",
              "        vertical-align: middle;\n",
              "    }\n",
              "\n",
              "    .dataframe tbody tr th {\n",
              "        vertical-align: top;\n",
              "    }\n",
              "\n",
              "    .dataframe thead th {\n",
              "        text-align: right;\n",
              "    }\n",
              "</style>\n",
              "<table border=\"1\" class=\"dataframe\">\n",
              "  <thead>\n",
              "    <tr style=\"text-align: right;\">\n",
              "      <th></th>\n",
              "      <th>House Price</th>\n",
              "      <th>House Size (sq.ft.)</th>\n",
              "      <th>Number of Rooms</th>\n",
              "      <th>Year of Construction</th>\n",
              "    </tr>\n",
              "  </thead>\n",
              "  <tbody>\n",
              "    <tr>\n",
              "      <th>House Price</th>\n",
              "      <td>1.000000</td>\n",
              "      <td>0.823578</td>\n",
              "      <td>0.795015</td>\n",
              "      <td>0.292898</td>\n",
              "    </tr>\n",
              "    <tr>\n",
              "      <th>House Size (sq.ft.)</th>\n",
              "      <td>0.823578</td>\n",
              "      <td>1.000000</td>\n",
              "      <td>0.936765</td>\n",
              "      <td>0.067741</td>\n",
              "    </tr>\n",
              "    <tr>\n",
              "      <th>Number of Rooms</th>\n",
              "      <td>0.795015</td>\n",
              "      <td>0.936765</td>\n",
              "      <td>1.000000</td>\n",
              "      <td>0.104080</td>\n",
              "    </tr>\n",
              "    <tr>\n",
              "      <th>Year of Construction</th>\n",
              "      <td>0.292898</td>\n",
              "      <td>0.067741</td>\n",
              "      <td>0.104080</td>\n",
              "      <td>1.000000</td>\n",
              "    </tr>\n",
              "  </tbody>\n",
              "</table>\n",
              "</div>\n",
              "      <button class=\"colab-df-convert\" onclick=\"convertToInteractive('df-5f0df9b0-bb8d-49c6-a87d-2f2a74459cec')\"\n",
              "              title=\"Convert this dataframe to an interactive table.\"\n",
              "              style=\"display:none;\">\n",
              "        \n",
              "  <svg xmlns=\"http://www.w3.org/2000/svg\" height=\"24px\"viewBox=\"0 0 24 24\"\n",
              "       width=\"24px\">\n",
              "    <path d=\"M0 0h24v24H0V0z\" fill=\"none\"/>\n",
              "    <path d=\"M18.56 5.44l.94 2.06.94-2.06 2.06-.94-2.06-.94-.94-2.06-.94 2.06-2.06.94zm-11 1L8.5 8.5l.94-2.06 2.06-.94-2.06-.94L8.5 2.5l-.94 2.06-2.06.94zm10 10l.94 2.06.94-2.06 2.06-.94-2.06-.94-.94-2.06-.94 2.06-2.06.94z\"/><path d=\"M17.41 7.96l-1.37-1.37c-.4-.4-.92-.59-1.43-.59-.52 0-1.04.2-1.43.59L10.3 9.45l-7.72 7.72c-.78.78-.78 2.05 0 2.83L4 21.41c.39.39.9.59 1.41.59.51 0 1.02-.2 1.41-.59l7.78-7.78 2.81-2.81c.8-.78.8-2.07 0-2.86zM5.41 20L4 18.59l7.72-7.72 1.47 1.35L5.41 20z\"/>\n",
              "  </svg>\n",
              "      </button>\n",
              "      \n",
              "  <style>\n",
              "    .colab-df-container {\n",
              "      display:flex;\n",
              "      flex-wrap:wrap;\n",
              "      gap: 12px;\n",
              "    }\n",
              "\n",
              "    .colab-df-convert {\n",
              "      background-color: #E8F0FE;\n",
              "      border: none;\n",
              "      border-radius: 50%;\n",
              "      cursor: pointer;\n",
              "      display: none;\n",
              "      fill: #1967D2;\n",
              "      height: 32px;\n",
              "      padding: 0 0 0 0;\n",
              "      width: 32px;\n",
              "    }\n",
              "\n",
              "    .colab-df-convert:hover {\n",
              "      background-color: #E2EBFA;\n",
              "      box-shadow: 0px 1px 2px rgba(60, 64, 67, 0.3), 0px 1px 3px 1px rgba(60, 64, 67, 0.15);\n",
              "      fill: #174EA6;\n",
              "    }\n",
              "\n",
              "    [theme=dark] .colab-df-convert {\n",
              "      background-color: #3B4455;\n",
              "      fill: #D2E3FC;\n",
              "    }\n",
              "\n",
              "    [theme=dark] .colab-df-convert:hover {\n",
              "      background-color: #434B5C;\n",
              "      box-shadow: 0px 1px 3px 1px rgba(0, 0, 0, 0.15);\n",
              "      filter: drop-shadow(0px 1px 2px rgba(0, 0, 0, 0.3));\n",
              "      fill: #FFFFFF;\n",
              "    }\n",
              "  </style>\n",
              "\n",
              "      <script>\n",
              "        const buttonEl =\n",
              "          document.querySelector('#df-5f0df9b0-bb8d-49c6-a87d-2f2a74459cec button.colab-df-convert');\n",
              "        buttonEl.style.display =\n",
              "          google.colab.kernel.accessAllowed ? 'block' : 'none';\n",
              "\n",
              "        async function convertToInteractive(key) {\n",
              "          const element = document.querySelector('#df-5f0df9b0-bb8d-49c6-a87d-2f2a74459cec');\n",
              "          const dataTable =\n",
              "            await google.colab.kernel.invokeFunction('convertToInteractive',\n",
              "                                                     [key], {});\n",
              "          if (!dataTable) return;\n",
              "\n",
              "          const docLinkHtml = 'Like what you see? Visit the ' +\n",
              "            '<a target=\"_blank\" href=https://colab.research.google.com/notebooks/data_table.ipynb>data table notebook</a>'\n",
              "            + ' to learn more about interactive tables.';\n",
              "          element.innerHTML = '';\n",
              "          dataTable['output_type'] = 'display_data';\n",
              "          await google.colab.output.renderOutput(dataTable, element);\n",
              "          const docLink = document.createElement('div');\n",
              "          docLink.innerHTML = docLinkHtml;\n",
              "          element.appendChild(docLink);\n",
              "        }\n",
              "      </script>\n",
              "    </div>\n",
              "  </div>\n",
              "  "
            ]
          },
          "metadata": {},
          "execution_count": 18
        }
      ]
    },
    {
      "cell_type": "code",
      "metadata": {
        "colab": {
          "base_uri": "https://localhost:8080/",
          "height": 206
        },
        "id": "g0CGsCvHBtYO",
        "outputId": "1000f87c-fbd7-4a2c-f4d1-77b8d13ec032"
      },
      "source": [
        "df_data.head()"
      ],
      "execution_count": 19,
      "outputs": [
        {
          "output_type": "execute_result",
          "data": {
            "text/plain": [
              "   House Price  House Size (sq.ft.) State  Number of Rooms  \\\n",
              "0      1116000                 1940    IN                8   \n",
              "1       860000                 1300    IN                5   \n",
              "2       818400                 1420    IN                6   \n",
              "3      1000000                 1680    IN                7   \n",
              "4       640000                 1270    IN                5   \n",
              "\n",
              "   Year of Construction  \n",
              "0                  2002  \n",
              "1                  1992  \n",
              "2                  1987  \n",
              "3                  2000  \n",
              "4                  1995  "
            ],
            "text/html": [
              "\n",
              "  <div id=\"df-5034ce5f-922d-468f-a25f-44c3638e7871\">\n",
              "    <div class=\"colab-df-container\">\n",
              "      <div>\n",
              "<style scoped>\n",
              "    .dataframe tbody tr th:only-of-type {\n",
              "        vertical-align: middle;\n",
              "    }\n",
              "\n",
              "    .dataframe tbody tr th {\n",
              "        vertical-align: top;\n",
              "    }\n",
              "\n",
              "    .dataframe thead th {\n",
              "        text-align: right;\n",
              "    }\n",
              "</style>\n",
              "<table border=\"1\" class=\"dataframe\">\n",
              "  <thead>\n",
              "    <tr style=\"text-align: right;\">\n",
              "      <th></th>\n",
              "      <th>House Price</th>\n",
              "      <th>House Size (sq.ft.)</th>\n",
              "      <th>State</th>\n",
              "      <th>Number of Rooms</th>\n",
              "      <th>Year of Construction</th>\n",
              "    </tr>\n",
              "  </thead>\n",
              "  <tbody>\n",
              "    <tr>\n",
              "      <th>0</th>\n",
              "      <td>1116000</td>\n",
              "      <td>1940</td>\n",
              "      <td>IN</td>\n",
              "      <td>8</td>\n",
              "      <td>2002</td>\n",
              "    </tr>\n",
              "    <tr>\n",
              "      <th>1</th>\n",
              "      <td>860000</td>\n",
              "      <td>1300</td>\n",
              "      <td>IN</td>\n",
              "      <td>5</td>\n",
              "      <td>1992</td>\n",
              "    </tr>\n",
              "    <tr>\n",
              "      <th>2</th>\n",
              "      <td>818400</td>\n",
              "      <td>1420</td>\n",
              "      <td>IN</td>\n",
              "      <td>6</td>\n",
              "      <td>1987</td>\n",
              "    </tr>\n",
              "    <tr>\n",
              "      <th>3</th>\n",
              "      <td>1000000</td>\n",
              "      <td>1680</td>\n",
              "      <td>IN</td>\n",
              "      <td>7</td>\n",
              "      <td>2000</td>\n",
              "    </tr>\n",
              "    <tr>\n",
              "      <th>4</th>\n",
              "      <td>640000</td>\n",
              "      <td>1270</td>\n",
              "      <td>IN</td>\n",
              "      <td>5</td>\n",
              "      <td>1995</td>\n",
              "    </tr>\n",
              "  </tbody>\n",
              "</table>\n",
              "</div>\n",
              "      <button class=\"colab-df-convert\" onclick=\"convertToInteractive('df-5034ce5f-922d-468f-a25f-44c3638e7871')\"\n",
              "              title=\"Convert this dataframe to an interactive table.\"\n",
              "              style=\"display:none;\">\n",
              "        \n",
              "  <svg xmlns=\"http://www.w3.org/2000/svg\" height=\"24px\"viewBox=\"0 0 24 24\"\n",
              "       width=\"24px\">\n",
              "    <path d=\"M0 0h24v24H0V0z\" fill=\"none\"/>\n",
              "    <path d=\"M18.56 5.44l.94 2.06.94-2.06 2.06-.94-2.06-.94-.94-2.06-.94 2.06-2.06.94zm-11 1L8.5 8.5l.94-2.06 2.06-.94-2.06-.94L8.5 2.5l-.94 2.06-2.06.94zm10 10l.94 2.06.94-2.06 2.06-.94-2.06-.94-.94-2.06-.94 2.06-2.06.94z\"/><path d=\"M17.41 7.96l-1.37-1.37c-.4-.4-.92-.59-1.43-.59-.52 0-1.04.2-1.43.59L10.3 9.45l-7.72 7.72c-.78.78-.78 2.05 0 2.83L4 21.41c.39.39.9.59 1.41.59.51 0 1.02-.2 1.41-.59l7.78-7.78 2.81-2.81c.8-.78.8-2.07 0-2.86zM5.41 20L4 18.59l7.72-7.72 1.47 1.35L5.41 20z\"/>\n",
              "  </svg>\n",
              "      </button>\n",
              "      \n",
              "  <style>\n",
              "    .colab-df-container {\n",
              "      display:flex;\n",
              "      flex-wrap:wrap;\n",
              "      gap: 12px;\n",
              "    }\n",
              "\n",
              "    .colab-df-convert {\n",
              "      background-color: #E8F0FE;\n",
              "      border: none;\n",
              "      border-radius: 50%;\n",
              "      cursor: pointer;\n",
              "      display: none;\n",
              "      fill: #1967D2;\n",
              "      height: 32px;\n",
              "      padding: 0 0 0 0;\n",
              "      width: 32px;\n",
              "    }\n",
              "\n",
              "    .colab-df-convert:hover {\n",
              "      background-color: #E2EBFA;\n",
              "      box-shadow: 0px 1px 2px rgba(60, 64, 67, 0.3), 0px 1px 3px 1px rgba(60, 64, 67, 0.15);\n",
              "      fill: #174EA6;\n",
              "    }\n",
              "\n",
              "    [theme=dark] .colab-df-convert {\n",
              "      background-color: #3B4455;\n",
              "      fill: #D2E3FC;\n",
              "    }\n",
              "\n",
              "    [theme=dark] .colab-df-convert:hover {\n",
              "      background-color: #434B5C;\n",
              "      box-shadow: 0px 1px 3px 1px rgba(0, 0, 0, 0.15);\n",
              "      filter: drop-shadow(0px 1px 2px rgba(0, 0, 0, 0.3));\n",
              "      fill: #FFFFFF;\n",
              "    }\n",
              "  </style>\n",
              "\n",
              "      <script>\n",
              "        const buttonEl =\n",
              "          document.querySelector('#df-5034ce5f-922d-468f-a25f-44c3638e7871 button.colab-df-convert');\n",
              "        buttonEl.style.display =\n",
              "          google.colab.kernel.accessAllowed ? 'block' : 'none';\n",
              "\n",
              "        async function convertToInteractive(key) {\n",
              "          const element = document.querySelector('#df-5034ce5f-922d-468f-a25f-44c3638e7871');\n",
              "          const dataTable =\n",
              "            await google.colab.kernel.invokeFunction('convertToInteractive',\n",
              "                                                     [key], {});\n",
              "          if (!dataTable) return;\n",
              "\n",
              "          const docLinkHtml = 'Like what you see? Visit the ' +\n",
              "            '<a target=\"_blank\" href=https://colab.research.google.com/notebooks/data_table.ipynb>data table notebook</a>'\n",
              "            + ' to learn more about interactive tables.';\n",
              "          element.innerHTML = '';\n",
              "          dataTable['output_type'] = 'display_data';\n",
              "          await google.colab.output.renderOutput(dataTable, element);\n",
              "          const docLink = document.createElement('div');\n",
              "          docLink.innerHTML = docLinkHtml;\n",
              "          element.appendChild(docLink);\n",
              "        }\n",
              "      </script>\n",
              "    </div>\n",
              "  </div>\n",
              "  "
            ]
          },
          "metadata": {},
          "execution_count": 19
        }
      ]
    },
    {
      "cell_type": "code",
      "metadata": {
        "id": "2zNXPgLKBHIs"
      },
      "source": [
        "X = df_data[['House Size (sq.ft.)', 'Number of Rooms', 'Year of Construction']]\n",
        "X = df_data[[ 'Number of Rooms', 'Year of Construction']]\n",
        "X = df_data[['House Size (sq.ft.)', 'Number of Rooms']]\n",
        "\n",
        "\n",
        "Y = df_data['House Price']\n"
      ],
      "execution_count": 20,
      "outputs": []
    },
    {
      "cell_type": "code",
      "metadata": {
        "id": "GezAwHyrBEpL"
      },
      "source": [
        "X1 = sm.add_constant(X)            #先加這個東西"
      ],
      "execution_count": 21,
      "outputs": []
    },
    {
      "cell_type": "code",
      "metadata": {
        "id": "FKC0amqx_92R"
      },
      "source": [
        "model_reg = sm.OLS(Y, X1).fit()    #餵到這裡面"
      ],
      "execution_count": 22,
      "outputs": []
    },
    {
      "cell_type": "code",
      "metadata": {
        "colab": {
          "base_uri": "https://localhost:8080/"
        },
        "id": "1ggy-QMIB44C",
        "outputId": "068f5ea2-5978-4c77-b445-0eaaa0e7c594"
      },
      "source": [
        "print(model_reg.summary())"
      ],
      "execution_count": 23,
      "outputs": [
        {
          "output_type": "stream",
          "name": "stdout",
          "text": [
            "                            OLS Regression Results                            \n",
            "==============================================================================\n",
            "Dep. Variable:            House Price   R-squared:                       0.683\n",
            "Model:                            OLS   Adj. R-squared:                  0.645\n",
            "Method:                 Least Squares   F-statistic:                     18.30\n",
            "Date:                Sat, 03 Jun 2023   Prob (F-statistic):           5.77e-05\n",
            "Time:                        19:04:07   Log-Likelihood:                -260.28\n",
            "No. Observations:                  20   AIC:                             526.6\n",
            "Df Residuals:                      17   BIC:                             529.6\n",
            "Df Model:                           2                                         \n",
            "Covariance Type:            nonrobust                                         \n",
            "=======================================================================================\n",
            "                          coef    std err          t      P>|t|      [0.025      0.975]\n",
            "---------------------------------------------------------------------------------------\n",
            "const                2.737e+05   1.03e+05      2.655      0.017    5.62e+04    4.91e+05\n",
            "House Size (sq.ft.)   314.1363    190.485      1.649      0.117     -87.752     716.025\n",
            "Number of Rooms      1.944e+04   3.95e+04      0.492      0.629   -6.39e+04    1.03e+05\n",
            "==============================================================================\n",
            "Omnibus:                        1.326   Durbin-Watson:                   1.852\n",
            "Prob(Omnibus):                  0.515   Jarque-Bera (JB):                0.810\n",
            "Skew:                          -0.487   Prob(JB):                        0.667\n",
            "Kurtosis:                       2.853   Cond. No.                     5.89e+03\n",
            "==============================================================================\n",
            "\n",
            "Notes:\n",
            "[1] Standard Errors assume that the covariance matrix of the errors is correctly specified.\n",
            "[2] The condition number is large, 5.89e+03. This might indicate that there are\n",
            "strong multicollinearity or other numerical problems.\n"
          ]
        }
      ]
    },
    {
      "cell_type": "markdown",
      "metadata": {
        "id": "m8ezdQeOBdxU"
      },
      "source": [
        "## california housing"
      ]
    },
    {
      "cell_type": "code",
      "metadata": {
        "colab": {
          "base_uri": "https://localhost:8080/",
          "height": 206
        },
        "id": "uh_2vj71DKUC",
        "outputId": "6dc5af41-b3c4-41cc-9694-992778f39b03"
      },
      "source": [
        "df_data_ca = pd.read_csv('/content/sample_data/california_housing_train.csv') \n",
        "df_data_ca.head()"
      ],
      "execution_count": 24,
      "outputs": [
        {
          "output_type": "execute_result",
          "data": {
            "text/plain": [
              "   longitude  latitude  housing_median_age  total_rooms  total_bedrooms  \\\n",
              "0    -114.31     34.19                15.0       5612.0          1283.0   \n",
              "1    -114.47     34.40                19.0       7650.0          1901.0   \n",
              "2    -114.56     33.69                17.0        720.0           174.0   \n",
              "3    -114.57     33.64                14.0       1501.0           337.0   \n",
              "4    -114.57     33.57                20.0       1454.0           326.0   \n",
              "\n",
              "   population  households  median_income  median_house_value  \n",
              "0      1015.0       472.0         1.4936             66900.0  \n",
              "1      1129.0       463.0         1.8200             80100.0  \n",
              "2       333.0       117.0         1.6509             85700.0  \n",
              "3       515.0       226.0         3.1917             73400.0  \n",
              "4       624.0       262.0         1.9250             65500.0  "
            ],
            "text/html": [
              "\n",
              "  <div id=\"df-5b7d0583-89e2-48c6-a870-3813680b2262\">\n",
              "    <div class=\"colab-df-container\">\n",
              "      <div>\n",
              "<style scoped>\n",
              "    .dataframe tbody tr th:only-of-type {\n",
              "        vertical-align: middle;\n",
              "    }\n",
              "\n",
              "    .dataframe tbody tr th {\n",
              "        vertical-align: top;\n",
              "    }\n",
              "\n",
              "    .dataframe thead th {\n",
              "        text-align: right;\n",
              "    }\n",
              "</style>\n",
              "<table border=\"1\" class=\"dataframe\">\n",
              "  <thead>\n",
              "    <tr style=\"text-align: right;\">\n",
              "      <th></th>\n",
              "      <th>longitude</th>\n",
              "      <th>latitude</th>\n",
              "      <th>housing_median_age</th>\n",
              "      <th>total_rooms</th>\n",
              "      <th>total_bedrooms</th>\n",
              "      <th>population</th>\n",
              "      <th>households</th>\n",
              "      <th>median_income</th>\n",
              "      <th>median_house_value</th>\n",
              "    </tr>\n",
              "  </thead>\n",
              "  <tbody>\n",
              "    <tr>\n",
              "      <th>0</th>\n",
              "      <td>-114.31</td>\n",
              "      <td>34.19</td>\n",
              "      <td>15.0</td>\n",
              "      <td>5612.0</td>\n",
              "      <td>1283.0</td>\n",
              "      <td>1015.0</td>\n",
              "      <td>472.0</td>\n",
              "      <td>1.4936</td>\n",
              "      <td>66900.0</td>\n",
              "    </tr>\n",
              "    <tr>\n",
              "      <th>1</th>\n",
              "      <td>-114.47</td>\n",
              "      <td>34.40</td>\n",
              "      <td>19.0</td>\n",
              "      <td>7650.0</td>\n",
              "      <td>1901.0</td>\n",
              "      <td>1129.0</td>\n",
              "      <td>463.0</td>\n",
              "      <td>1.8200</td>\n",
              "      <td>80100.0</td>\n",
              "    </tr>\n",
              "    <tr>\n",
              "      <th>2</th>\n",
              "      <td>-114.56</td>\n",
              "      <td>33.69</td>\n",
              "      <td>17.0</td>\n",
              "      <td>720.0</td>\n",
              "      <td>174.0</td>\n",
              "      <td>333.0</td>\n",
              "      <td>117.0</td>\n",
              "      <td>1.6509</td>\n",
              "      <td>85700.0</td>\n",
              "    </tr>\n",
              "    <tr>\n",
              "      <th>3</th>\n",
              "      <td>-114.57</td>\n",
              "      <td>33.64</td>\n",
              "      <td>14.0</td>\n",
              "      <td>1501.0</td>\n",
              "      <td>337.0</td>\n",
              "      <td>515.0</td>\n",
              "      <td>226.0</td>\n",
              "      <td>3.1917</td>\n",
              "      <td>73400.0</td>\n",
              "    </tr>\n",
              "    <tr>\n",
              "      <th>4</th>\n",
              "      <td>-114.57</td>\n",
              "      <td>33.57</td>\n",
              "      <td>20.0</td>\n",
              "      <td>1454.0</td>\n",
              "      <td>326.0</td>\n",
              "      <td>624.0</td>\n",
              "      <td>262.0</td>\n",
              "      <td>1.9250</td>\n",
              "      <td>65500.0</td>\n",
              "    </tr>\n",
              "  </tbody>\n",
              "</table>\n",
              "</div>\n",
              "      <button class=\"colab-df-convert\" onclick=\"convertToInteractive('df-5b7d0583-89e2-48c6-a870-3813680b2262')\"\n",
              "              title=\"Convert this dataframe to an interactive table.\"\n",
              "              style=\"display:none;\">\n",
              "        \n",
              "  <svg xmlns=\"http://www.w3.org/2000/svg\" height=\"24px\"viewBox=\"0 0 24 24\"\n",
              "       width=\"24px\">\n",
              "    <path d=\"M0 0h24v24H0V0z\" fill=\"none\"/>\n",
              "    <path d=\"M18.56 5.44l.94 2.06.94-2.06 2.06-.94-2.06-.94-.94-2.06-.94 2.06-2.06.94zm-11 1L8.5 8.5l.94-2.06 2.06-.94-2.06-.94L8.5 2.5l-.94 2.06-2.06.94zm10 10l.94 2.06.94-2.06 2.06-.94-2.06-.94-.94-2.06-.94 2.06-2.06.94z\"/><path d=\"M17.41 7.96l-1.37-1.37c-.4-.4-.92-.59-1.43-.59-.52 0-1.04.2-1.43.59L10.3 9.45l-7.72 7.72c-.78.78-.78 2.05 0 2.83L4 21.41c.39.39.9.59 1.41.59.51 0 1.02-.2 1.41-.59l7.78-7.78 2.81-2.81c.8-.78.8-2.07 0-2.86zM5.41 20L4 18.59l7.72-7.72 1.47 1.35L5.41 20z\"/>\n",
              "  </svg>\n",
              "      </button>\n",
              "      \n",
              "  <style>\n",
              "    .colab-df-container {\n",
              "      display:flex;\n",
              "      flex-wrap:wrap;\n",
              "      gap: 12px;\n",
              "    }\n",
              "\n",
              "    .colab-df-convert {\n",
              "      background-color: #E8F0FE;\n",
              "      border: none;\n",
              "      border-radius: 50%;\n",
              "      cursor: pointer;\n",
              "      display: none;\n",
              "      fill: #1967D2;\n",
              "      height: 32px;\n",
              "      padding: 0 0 0 0;\n",
              "      width: 32px;\n",
              "    }\n",
              "\n",
              "    .colab-df-convert:hover {\n",
              "      background-color: #E2EBFA;\n",
              "      box-shadow: 0px 1px 2px rgba(60, 64, 67, 0.3), 0px 1px 3px 1px rgba(60, 64, 67, 0.15);\n",
              "      fill: #174EA6;\n",
              "    }\n",
              "\n",
              "    [theme=dark] .colab-df-convert {\n",
              "      background-color: #3B4455;\n",
              "      fill: #D2E3FC;\n",
              "    }\n",
              "\n",
              "    [theme=dark] .colab-df-convert:hover {\n",
              "      background-color: #434B5C;\n",
              "      box-shadow: 0px 1px 3px 1px rgba(0, 0, 0, 0.15);\n",
              "      filter: drop-shadow(0px 1px 2px rgba(0, 0, 0, 0.3));\n",
              "      fill: #FFFFFF;\n",
              "    }\n",
              "  </style>\n",
              "\n",
              "      <script>\n",
              "        const buttonEl =\n",
              "          document.querySelector('#df-5b7d0583-89e2-48c6-a870-3813680b2262 button.colab-df-convert');\n",
              "        buttonEl.style.display =\n",
              "          google.colab.kernel.accessAllowed ? 'block' : 'none';\n",
              "\n",
              "        async function convertToInteractive(key) {\n",
              "          const element = document.querySelector('#df-5b7d0583-89e2-48c6-a870-3813680b2262');\n",
              "          const dataTable =\n",
              "            await google.colab.kernel.invokeFunction('convertToInteractive',\n",
              "                                                     [key], {});\n",
              "          if (!dataTable) return;\n",
              "\n",
              "          const docLinkHtml = 'Like what you see? Visit the ' +\n",
              "            '<a target=\"_blank\" href=https://colab.research.google.com/notebooks/data_table.ipynb>data table notebook</a>'\n",
              "            + ' to learn more about interactive tables.';\n",
              "          element.innerHTML = '';\n",
              "          dataTable['output_type'] = 'display_data';\n",
              "          await google.colab.output.renderOutput(dataTable, element);\n",
              "          const docLink = document.createElement('div');\n",
              "          docLink.innerHTML = docLinkHtml;\n",
              "          element.appendChild(docLink);\n",
              "        }\n",
              "      </script>\n",
              "    </div>\n",
              "  </div>\n",
              "  "
            ]
          },
          "metadata": {},
          "execution_count": 24
        }
      ]
    },
    {
      "cell_type": "code",
      "metadata": {
        "colab": {
          "base_uri": "https://localhost:8080/",
          "height": 332
        },
        "id": "07xg1WCCElSg",
        "outputId": "5986b13f-2fce-4136-a980-4a6417cc5243"
      },
      "source": [
        "df_data_ca.corr() "
      ],
      "execution_count": 25,
      "outputs": [
        {
          "output_type": "execute_result",
          "data": {
            "text/plain": [
              "                    longitude  latitude  housing_median_age  total_rooms  \\\n",
              "longitude            1.000000 -0.925208           -0.114250     0.047010   \n",
              "latitude            -0.925208  1.000000            0.016454    -0.038773   \n",
              "housing_median_age  -0.114250  0.016454            1.000000    -0.360984   \n",
              "total_rooms          0.047010 -0.038773           -0.360984     1.000000   \n",
              "total_bedrooms       0.071802 -0.069373           -0.320434     0.928403   \n",
              "population           0.101674 -0.111261           -0.295890     0.860170   \n",
              "households           0.059628 -0.074902           -0.302754     0.919018   \n",
              "median_income       -0.015485 -0.080303           -0.115932     0.195383   \n",
              "median_house_value  -0.044982 -0.144917            0.106758     0.130991   \n",
              "\n",
              "                    total_bedrooms  population  households  median_income  \\\n",
              "longitude                 0.071802    0.101674    0.059628      -0.015485   \n",
              "latitude                 -0.069373   -0.111261   -0.074902      -0.080303   \n",
              "housing_median_age       -0.320434   -0.295890   -0.302754      -0.115932   \n",
              "total_rooms               0.928403    0.860170    0.919018       0.195383   \n",
              "total_bedrooms            1.000000    0.881169    0.980920      -0.013495   \n",
              "population                0.881169    1.000000    0.909247      -0.000638   \n",
              "households                0.980920    0.909247    1.000000       0.007644   \n",
              "median_income            -0.013495   -0.000638    0.007644       1.000000   \n",
              "median_house_value        0.045783   -0.027850    0.061031       0.691871   \n",
              "\n",
              "                    median_house_value  \n",
              "longitude                    -0.044982  \n",
              "latitude                     -0.144917  \n",
              "housing_median_age            0.106758  \n",
              "total_rooms                   0.130991  \n",
              "total_bedrooms                0.045783  \n",
              "population                   -0.027850  \n",
              "households                    0.061031  \n",
              "median_income                 0.691871  \n",
              "median_house_value            1.000000  "
            ],
            "text/html": [
              "\n",
              "  <div id=\"df-71f10207-e986-444f-8b96-cdd1c095001b\">\n",
              "    <div class=\"colab-df-container\">\n",
              "      <div>\n",
              "<style scoped>\n",
              "    .dataframe tbody tr th:only-of-type {\n",
              "        vertical-align: middle;\n",
              "    }\n",
              "\n",
              "    .dataframe tbody tr th {\n",
              "        vertical-align: top;\n",
              "    }\n",
              "\n",
              "    .dataframe thead th {\n",
              "        text-align: right;\n",
              "    }\n",
              "</style>\n",
              "<table border=\"1\" class=\"dataframe\">\n",
              "  <thead>\n",
              "    <tr style=\"text-align: right;\">\n",
              "      <th></th>\n",
              "      <th>longitude</th>\n",
              "      <th>latitude</th>\n",
              "      <th>housing_median_age</th>\n",
              "      <th>total_rooms</th>\n",
              "      <th>total_bedrooms</th>\n",
              "      <th>population</th>\n",
              "      <th>households</th>\n",
              "      <th>median_income</th>\n",
              "      <th>median_house_value</th>\n",
              "    </tr>\n",
              "  </thead>\n",
              "  <tbody>\n",
              "    <tr>\n",
              "      <th>longitude</th>\n",
              "      <td>1.000000</td>\n",
              "      <td>-0.925208</td>\n",
              "      <td>-0.114250</td>\n",
              "      <td>0.047010</td>\n",
              "      <td>0.071802</td>\n",
              "      <td>0.101674</td>\n",
              "      <td>0.059628</td>\n",
              "      <td>-0.015485</td>\n",
              "      <td>-0.044982</td>\n",
              "    </tr>\n",
              "    <tr>\n",
              "      <th>latitude</th>\n",
              "      <td>-0.925208</td>\n",
              "      <td>1.000000</td>\n",
              "      <td>0.016454</td>\n",
              "      <td>-0.038773</td>\n",
              "      <td>-0.069373</td>\n",
              "      <td>-0.111261</td>\n",
              "      <td>-0.074902</td>\n",
              "      <td>-0.080303</td>\n",
              "      <td>-0.144917</td>\n",
              "    </tr>\n",
              "    <tr>\n",
              "      <th>housing_median_age</th>\n",
              "      <td>-0.114250</td>\n",
              "      <td>0.016454</td>\n",
              "      <td>1.000000</td>\n",
              "      <td>-0.360984</td>\n",
              "      <td>-0.320434</td>\n",
              "      <td>-0.295890</td>\n",
              "      <td>-0.302754</td>\n",
              "      <td>-0.115932</td>\n",
              "      <td>0.106758</td>\n",
              "    </tr>\n",
              "    <tr>\n",
              "      <th>total_rooms</th>\n",
              "      <td>0.047010</td>\n",
              "      <td>-0.038773</td>\n",
              "      <td>-0.360984</td>\n",
              "      <td>1.000000</td>\n",
              "      <td>0.928403</td>\n",
              "      <td>0.860170</td>\n",
              "      <td>0.919018</td>\n",
              "      <td>0.195383</td>\n",
              "      <td>0.130991</td>\n",
              "    </tr>\n",
              "    <tr>\n",
              "      <th>total_bedrooms</th>\n",
              "      <td>0.071802</td>\n",
              "      <td>-0.069373</td>\n",
              "      <td>-0.320434</td>\n",
              "      <td>0.928403</td>\n",
              "      <td>1.000000</td>\n",
              "      <td>0.881169</td>\n",
              "      <td>0.980920</td>\n",
              "      <td>-0.013495</td>\n",
              "      <td>0.045783</td>\n",
              "    </tr>\n",
              "    <tr>\n",
              "      <th>population</th>\n",
              "      <td>0.101674</td>\n",
              "      <td>-0.111261</td>\n",
              "      <td>-0.295890</td>\n",
              "      <td>0.860170</td>\n",
              "      <td>0.881169</td>\n",
              "      <td>1.000000</td>\n",
              "      <td>0.909247</td>\n",
              "      <td>-0.000638</td>\n",
              "      <td>-0.027850</td>\n",
              "    </tr>\n",
              "    <tr>\n",
              "      <th>households</th>\n",
              "      <td>0.059628</td>\n",
              "      <td>-0.074902</td>\n",
              "      <td>-0.302754</td>\n",
              "      <td>0.919018</td>\n",
              "      <td>0.980920</td>\n",
              "      <td>0.909247</td>\n",
              "      <td>1.000000</td>\n",
              "      <td>0.007644</td>\n",
              "      <td>0.061031</td>\n",
              "    </tr>\n",
              "    <tr>\n",
              "      <th>median_income</th>\n",
              "      <td>-0.015485</td>\n",
              "      <td>-0.080303</td>\n",
              "      <td>-0.115932</td>\n",
              "      <td>0.195383</td>\n",
              "      <td>-0.013495</td>\n",
              "      <td>-0.000638</td>\n",
              "      <td>0.007644</td>\n",
              "      <td>1.000000</td>\n",
              "      <td>0.691871</td>\n",
              "    </tr>\n",
              "    <tr>\n",
              "      <th>median_house_value</th>\n",
              "      <td>-0.044982</td>\n",
              "      <td>-0.144917</td>\n",
              "      <td>0.106758</td>\n",
              "      <td>0.130991</td>\n",
              "      <td>0.045783</td>\n",
              "      <td>-0.027850</td>\n",
              "      <td>0.061031</td>\n",
              "      <td>0.691871</td>\n",
              "      <td>1.000000</td>\n",
              "    </tr>\n",
              "  </tbody>\n",
              "</table>\n",
              "</div>\n",
              "      <button class=\"colab-df-convert\" onclick=\"convertToInteractive('df-71f10207-e986-444f-8b96-cdd1c095001b')\"\n",
              "              title=\"Convert this dataframe to an interactive table.\"\n",
              "              style=\"display:none;\">\n",
              "        \n",
              "  <svg xmlns=\"http://www.w3.org/2000/svg\" height=\"24px\"viewBox=\"0 0 24 24\"\n",
              "       width=\"24px\">\n",
              "    <path d=\"M0 0h24v24H0V0z\" fill=\"none\"/>\n",
              "    <path d=\"M18.56 5.44l.94 2.06.94-2.06 2.06-.94-2.06-.94-.94-2.06-.94 2.06-2.06.94zm-11 1L8.5 8.5l.94-2.06 2.06-.94-2.06-.94L8.5 2.5l-.94 2.06-2.06.94zm10 10l.94 2.06.94-2.06 2.06-.94-2.06-.94-.94-2.06-.94 2.06-2.06.94z\"/><path d=\"M17.41 7.96l-1.37-1.37c-.4-.4-.92-.59-1.43-.59-.52 0-1.04.2-1.43.59L10.3 9.45l-7.72 7.72c-.78.78-.78 2.05 0 2.83L4 21.41c.39.39.9.59 1.41.59.51 0 1.02-.2 1.41-.59l7.78-7.78 2.81-2.81c.8-.78.8-2.07 0-2.86zM5.41 20L4 18.59l7.72-7.72 1.47 1.35L5.41 20z\"/>\n",
              "  </svg>\n",
              "      </button>\n",
              "      \n",
              "  <style>\n",
              "    .colab-df-container {\n",
              "      display:flex;\n",
              "      flex-wrap:wrap;\n",
              "      gap: 12px;\n",
              "    }\n",
              "\n",
              "    .colab-df-convert {\n",
              "      background-color: #E8F0FE;\n",
              "      border: none;\n",
              "      border-radius: 50%;\n",
              "      cursor: pointer;\n",
              "      display: none;\n",
              "      fill: #1967D2;\n",
              "      height: 32px;\n",
              "      padding: 0 0 0 0;\n",
              "      width: 32px;\n",
              "    }\n",
              "\n",
              "    .colab-df-convert:hover {\n",
              "      background-color: #E2EBFA;\n",
              "      box-shadow: 0px 1px 2px rgba(60, 64, 67, 0.3), 0px 1px 3px 1px rgba(60, 64, 67, 0.15);\n",
              "      fill: #174EA6;\n",
              "    }\n",
              "\n",
              "    [theme=dark] .colab-df-convert {\n",
              "      background-color: #3B4455;\n",
              "      fill: #D2E3FC;\n",
              "    }\n",
              "\n",
              "    [theme=dark] .colab-df-convert:hover {\n",
              "      background-color: #434B5C;\n",
              "      box-shadow: 0px 1px 3px 1px rgba(0, 0, 0, 0.15);\n",
              "      filter: drop-shadow(0px 1px 2px rgba(0, 0, 0, 0.3));\n",
              "      fill: #FFFFFF;\n",
              "    }\n",
              "  </style>\n",
              "\n",
              "      <script>\n",
              "        const buttonEl =\n",
              "          document.querySelector('#df-71f10207-e986-444f-8b96-cdd1c095001b button.colab-df-convert');\n",
              "        buttonEl.style.display =\n",
              "          google.colab.kernel.accessAllowed ? 'block' : 'none';\n",
              "\n",
              "        async function convertToInteractive(key) {\n",
              "          const element = document.querySelector('#df-71f10207-e986-444f-8b96-cdd1c095001b');\n",
              "          const dataTable =\n",
              "            await google.colab.kernel.invokeFunction('convertToInteractive',\n",
              "                                                     [key], {});\n",
              "          if (!dataTable) return;\n",
              "\n",
              "          const docLinkHtml = 'Like what you see? Visit the ' +\n",
              "            '<a target=\"_blank\" href=https://colab.research.google.com/notebooks/data_table.ipynb>data table notebook</a>'\n",
              "            + ' to learn more about interactive tables.';\n",
              "          element.innerHTML = '';\n",
              "          dataTable['output_type'] = 'display_data';\n",
              "          await google.colab.output.renderOutput(dataTable, element);\n",
              "          const docLink = document.createElement('div');\n",
              "          docLink.innerHTML = docLinkHtml;\n",
              "          element.appendChild(docLink);\n",
              "        }\n",
              "      </script>\n",
              "    </div>\n",
              "  </div>\n",
              "  "
            ]
          },
          "metadata": {},
          "execution_count": 25
        }
      ]
    },
    {
      "cell_type": "code",
      "metadata": {
        "colab": {
          "base_uri": "https://localhost:8080/",
          "height": 465
        },
        "id": "oz_8KRcYDe-v",
        "outputId": "c0a3ba29-5265-48c6-8fb1-f602528e0027"
      },
      "source": [
        "X = df_data_ca['total_rooms']\n",
        "Y = df_data_ca['median_house_value']\n",
        "\n",
        "plt.scatter(X,Y)\n",
        "plt.axis([0, 2500, 0, 1500000])\n",
        "plt.xlabel('total_rooms')\n",
        "plt.ylabel('median_house_value')\n",
        "plt.show()"
      ],
      "execution_count": 26,
      "outputs": [
        {
          "output_type": "display_data",
          "data": {
            "text/plain": [
              "<Figure size 640x480 with 1 Axes>"
            ],
            "image/png": "[encoded data removed]"
          },
          "metadata": {}
        }
      ]
    },
    {
      "cell_type": "code",
      "metadata": {
        "id": "5MLmRlicRddL"
      },
      "source": [
        "X1 = df_data_ca[['total_rooms', 'total_bedrooms', 'population','households']]\n",
        "Y = df_data_ca['median_house_value']"
      ],
      "execution_count": 27,
      "outputs": []
    },
    {
      "cell_type": "code",
      "metadata": {
        "id": "6aiuY6tJMImv"
      },
      "source": [
        "# X = df_data_ca[['total_rooms', 'total_bedrooms', 'population','households']]\n",
        "# X = df_data_ca[['total_rooms', 'households']]\n",
        "# X = df_data_ca[['total_bedrooms', 'population']]\n",
        "\n",
        "\n",
        "# Y = df_data_ca['median_house_value']"
      ],
      "execution_count": 28,
      "outputs": []
    },
    {
      "cell_type": "code",
      "metadata": {
        "id": "sFFyFoGtMN0e"
      },
      "source": [
        "X1 = sm.add_constant(X)            #先加這個東西"
      ],
      "execution_count": 29,
      "outputs": []
    },
    {
      "cell_type": "code",
      "metadata": {
        "id": "CBQpetlwMSiM"
      },
      "source": [
        "model_reg = sm.OLS(Y, X1).fit()    #餵到這裡面"
      ],
      "execution_count": 30,
      "outputs": []
    },
    {
      "cell_type": "code",
      "metadata": {
        "colab": {
          "base_uri": "https://localhost:8080/"
        },
        "id": "bdZNKZKQPb65",
        "outputId": "3b989c10-443d-493b-9146-1c36704272d9"
      },
      "source": [
        "print(model_reg.summary())"
      ],
      "execution_count": 31,
      "outputs": [
        {
          "output_type": "stream",
          "name": "stdout",
          "text": [
            "                            OLS Regression Results                            \n",
            "==============================================================================\n",
            "Dep. Variable:     median_house_value   R-squared:                       0.017\n",
            "Model:                            OLS   Adj. R-squared:                  0.017\n",
            "Method:                 Least Squares   F-statistic:                     296.8\n",
            "Date:                Sat, 03 Jun 2023   Prob (F-statistic):           6.08e-66\n",
            "Time:                        19:04:07   Log-Likelihood:            -2.2221e+05\n",
            "No. Observations:               17000   AIC:                         4.444e+05\n",
            "Df Residuals:                   16998   BIC:                         4.444e+05\n",
            "Df Model:                           1                                         \n",
            "Covariance Type:            nonrobust                                         \n",
            "===============================================================================\n",
            "                  coef    std err          t      P>|t|      [0.025      0.975]\n",
            "-------------------------------------------------------------------------------\n",
            "const        1.889e+05   1386.257    136.249      0.000    1.86e+05    1.92e+05\n",
            "total_rooms     6.9694      0.405     17.227      0.000       6.176       7.762\n",
            "==============================================================================\n",
            "Omnibus:                     2048.651   Durbin-Watson:                   0.589\n",
            "Prob(Omnibus):                  0.000   Jarque-Bera (JB):             2865.772\n",
            "Skew:                           0.989   Prob(JB):                         0.00\n",
            "Kurtosis:                       3.369   Cond. No.                     5.39e+03\n",
            "==============================================================================\n",
            "\n",
            "Notes:\n",
            "[1] Standard Errors assume that the covariance matrix of the errors is correctly specified.\n",
            "[2] The condition number is large, 5.39e+03. This might indicate that there are\n",
            "strong multicollinearity or other numerical problems.\n"
          ]
        }
      ]
    },
    {
      "cell_type": "code",
      "metadata": {
        "id": "AQUgBvysTAz0"
      },
      "source": [
        "df_test = pd.read_csv('/content/sample_data/california_housing_test.csv')"
      ],
      "execution_count": 32,
      "outputs": []
    },
    {
      "cell_type": "code",
      "metadata": {
        "id": "WuoGDTm4SWHs"
      },
      "source": [
        "# test_X1 = df_test[['longitude','latitude','housing_median_age\t','total_rooms',\n",
        "#                    'total_bedrooms','population','households','median_income','median_house_value'\n",
        "#                    ]]\n",
        "# test_X1 = \n",
        "# test_Y = df_test.median_house_value"
      ],
      "execution_count": 33,
      "outputs": []
    },
    {
      "cell_type": "code",
      "metadata": {
        "id": "SmNi8MX3SQKO"
      },
      "source": [
        "# len(test_X1),len(test_Y)"
      ],
      "execution_count": 34,
      "outputs": []
    },
    {
      "cell_type": "code",
      "metadata": {
        "id": "iAeGxzvySGUm"
      },
      "source": [
        "# plt.scatter(model_reg.predict(test_X1), test_Y)"
      ],
      "execution_count": 35,
      "outputs": []
    },
    {
      "cell_type": "code",
      "metadata": {
        "id": "QgnmE5VgRzpd"
      },
      "source": [
        "# np.mean(np.abs(model_reg.predict(test_X1)- test_Y))"
      ],
      "execution_count": 36,
      "outputs": []
    },
    {
      "cell_type": "code",
      "metadata": {
        "colab": {
          "base_uri": "https://localhost:8080/",
          "height": 473
        },
        "id": "b_E_qGAKFh_a",
        "outputId": "1d48bc1d-bf01-4b2e-ae80-36169cd3d572"
      },
      "source": [
        "sns.ecdfplot(data=df_data_ca, x='median_house_value')"
      ],
      "execution_count": 37,
      "outputs": [
        {
          "output_type": "execute_result",
          "data": {
            "text/plain": [
              "<Axes: xlabel='median_house_value', ylabel='Proportion'>"
            ]
          },
          "metadata": {},
          "execution_count": 37
        },
        {
          "output_type": "display_data",
          "data": {
            "text/plain": [
              "<Figure size 640x480 with 1 Axes>"
            ],
            "image/png": "[encoded data removed]"
          },
          "metadata": {}
        }
      ]
    },
    {
      "cell_type": "code",
      "metadata": {
        "colab": {
          "base_uri": "https://localhost:8080/",
          "height": 332
        },
        "id": "lq_tQqYUF1r2",
        "outputId": "2d4e750e-fcd1-414d-c24c-9feff3d84927"
      },
      "source": [
        "df_data_ca.describe().T\n",
        "# df_data_ca.info()"
      ],
      "execution_count": 38,
      "outputs": [
        {
          "output_type": "execute_result",
          "data": {
            "text/plain": [
              "                      count           mean            std         min  \\\n",
              "longitude           17000.0    -119.562108       2.005166   -124.3500   \n",
              "latitude            17000.0      35.625225       2.137340     32.5400   \n",
              "housing_median_age  17000.0      28.589353      12.586937      1.0000   \n",
              "total_rooms         17000.0    2643.664412    2179.947071      2.0000   \n",
              "total_bedrooms      17000.0     539.410824     421.499452      1.0000   \n",
              "population          17000.0    1429.573941    1147.852959      3.0000   \n",
              "households          17000.0     501.221941     384.520841      1.0000   \n",
              "median_income       17000.0       3.883578       1.908157      0.4999   \n",
              "median_house_value  17000.0  207300.912353  115983.764387  14999.0000   \n",
              "\n",
              "                              25%          50%         75%          max  \n",
              "longitude             -121.790000    -118.4900    -118.000    -114.3100  \n",
              "latitude                33.930000      34.2500      37.720      41.9500  \n",
              "housing_median_age      18.000000      29.0000      37.000      52.0000  \n",
              "total_rooms           1462.000000    2127.0000    3151.250   37937.0000  \n",
              "total_bedrooms         297.000000     434.0000     648.250    6445.0000  \n",
              "population             790.000000    1167.0000    1721.000   35682.0000  \n",
              "households             282.000000     409.0000     605.250    6082.0000  \n",
              "median_income            2.566375       3.5446       4.767      15.0001  \n",
              "median_house_value  119400.000000  180400.0000  265000.000  500001.0000  "
            ],
            "text/html": [
              "\n",
              "  <div id=\"df-f13889d6-fa2d-41b9-abb8-67812f83f618\">\n",
              "    <div class=\"colab-df-container\">\n",
              "      <div>\n",
              "<style scoped>\n",
              "    .dataframe tbody tr th:only-of-type {\n",
              "        vertical-align: middle;\n",
              "    }\n",
              "\n",
              "    .dataframe tbody tr th {\n",
              "        vertical-align: top;\n",
              "    }\n",
              "\n",
              "    .dataframe thead th {\n",
              "        text-align: right;\n",
              "    }\n",
              "</style>\n",
              "<table border=\"1\" class=\"dataframe\">\n",
              "  <thead>\n",
              "    <tr style=\"text-align: right;\">\n",
              "      <th></th>\n",
              "      <th>count</th>\n",
              "      <th>mean</th>\n",
              "      <th>std</th>\n",
              "      <th>min</th>\n",
              "      <th>25%</th>\n",
              "      <th>50%</th>\n",
              "      <th>75%</th>\n",
              "      <th>max</th>\n",
              "    </tr>\n",
              "  </thead>\n",
              "  <tbody>\n",
              "    <tr>\n",
              "      <th>longitude</th>\n",
              "      <td>17000.0</td>\n",
              "      <td>-119.562108</td>\n",
              "      <td>2.005166</td>\n",
              "      <td>-124.3500</td>\n",
              "      <td>-121.790000</td>\n",
              "      <td>-118.4900</td>\n",
              "      <td>-118.000</td>\n",
              "      <td>-114.3100</td>\n",
              "    </tr>\n",
              "    <tr>\n",
              "      <th>latitude</th>\n",
              "      <td>17000.0</td>\n",
              "      <td>35.625225</td>\n",
              "      <td>2.137340</td>\n",
              "      <td>32.5400</td>\n",
              "      <td>33.930000</td>\n",
              "      <td>34.2500</td>\n",
              "      <td>37.720</td>\n",
              "      <td>41.9500</td>\n",
              "    </tr>\n",
              "    <tr>\n",
              "      <th>housing_median_age</th>\n",
              "      <td>17000.0</td>\n",
              "      <td>28.589353</td>\n",
              "      <td>12.586937</td>\n",
              "      <td>1.0000</td>\n",
              "      <td>18.000000</td>\n",
              "      <td>29.0000</td>\n",
              "      <td>37.000</td>\n",
              "      <td>52.0000</td>\n",
              "    </tr>\n",
              "    <tr>\n",
              "      <th>total_rooms</th>\n",
              "      <td>17000.0</td>\n",
              "      <td>2643.664412</td>\n",
              "      <td>2179.947071</td>\n",
              "      <td>2.0000</td>\n",
              "      <td>1462.000000</td>\n",
              "      <td>2127.0000</td>\n",
              "      <td>3151.250</td>\n",
              "      <td>37937.0000</td>\n",
              "    </tr>\n",
              "    <tr>\n",
              "      <th>total_bedrooms</th>\n",
              "      <td>17000.0</td>\n",
              "      <td>539.410824</td>\n",
              "      <td>421.499452</td>\n",
              "      <td>1.0000</td>\n",
              "      <td>297.000000</td>\n",
              "      <td>434.0000</td>\n",
              "      <td>648.250</td>\n",
              "      <td>6445.0000</td>\n",
              "    </tr>\n",
              "    <tr>\n",
              "      <th>population</th>\n",
              "      <td>17000.0</td>\n",
              "      <td>1429.573941</td>\n",
              "      <td>1147.852959</td>\n",
              "      <td>3.0000</td>\n",
              "      <td>790.000000</td>\n",
              "      <td>1167.0000</td>\n",
              "      <td>1721.000</td>\n",
              "      <td>35682.0000</td>\n",
              "    </tr>\n",
              "    <tr>\n",
              "      <th>households</th>\n",
              "      <td>17000.0</td>\n",
              "      <td>501.221941</td>\n",
              "      <td>384.520841</td>\n",
              "      <td>1.0000</td>\n",
              "      <td>282.000000</td>\n",
              "      <td>409.0000</td>\n",
              "      <td>605.250</td>\n",
              "      <td>6082.0000</td>\n",
              "    </tr>\n",
              "    <tr>\n",
              "      <th>median_income</th>\n",
              "      <td>17000.0</td>\n",
              "      <td>3.883578</td>\n",
              "      <td>1.908157</td>\n",
              "      <td>0.4999</td>\n",
              "      <td>2.566375</td>\n",
              "      <td>3.5446</td>\n",
              "      <td>4.767</td>\n",
              "      <td>15.0001</td>\n",
              "    </tr>\n",
              "    <tr>\n",
              "      <th>median_house_value</th>\n",
              "      <td>17000.0</td>\n",
              "      <td>207300.912353</td>\n",
              "      <td>115983.764387</td>\n",
              "      <td>14999.0000</td>\n",
              "      <td>119400.000000</td>\n",
              "      <td>180400.0000</td>\n",
              "      <td>265000.000</td>\n",
              "      <td>500001.0000</td>\n",
              "    </tr>\n",
              "  </tbody>\n",
              "</table>\n",
              "</div>\n",
              "      <button class=\"colab-df-convert\" onclick=\"convertToInteractive('df-f13889d6-fa2d-41b9-abb8-67812f83f618')\"\n",
              "              title=\"Convert this dataframe to an interactive table.\"\n",
              "              style=\"display:none;\">\n",
              "        \n",
              "  <svg xmlns=\"http://www.w3.org/2000/svg\" height=\"24px\"viewBox=\"0 0 24 24\"\n",
              "       width=\"24px\">\n",
              "    <path d=\"M0 0h24v24H0V0z\" fill=\"none\"/>\n",
              "    <path d=\"M18.56 5.44l.94 2.06.94-2.06 2.06-.94-2.06-.94-.94-2.06-.94 2.06-2.06.94zm-11 1L8.5 8.5l.94-2.06 2.06-.94-2.06-.94L8.5 2.5l-.94 2.06-2.06.94zm10 10l.94 2.06.94-2.06 2.06-.94-2.06-.94-.94-2.06-.94 2.06-2.06.94z\"/><path d=\"M17.41 7.96l-1.37-1.37c-.4-.4-.92-.59-1.43-.59-.52 0-1.04.2-1.43.59L10.3 9.45l-7.72 7.72c-.78.78-.78 2.05 0 2.83L4 21.41c.39.39.9.59 1.41.59.51 0 1.02-.2 1.41-.59l7.78-7.78 2.81-2.81c.8-.78.8-2.07 0-2.86zM5.41 20L4 18.59l7.72-7.72 1.47 1.35L5.41 20z\"/>\n",
              "  </svg>\n",
              "      </button>\n",
              "      \n",
              "  <style>\n",
              "    .colab-df-container {\n",
              "      display:flex;\n",
              "      flex-wrap:wrap;\n",
              "      gap: 12px;\n",
              "    }\n",
              "\n",
              "    .colab-df-convert {\n",
              "      background-color: #E8F0FE;\n",
              "      border: none;\n",
              "      border-radius: 50%;\n",
              "      cursor: pointer;\n",
              "      display: none;\n",
              "      fill: #1967D2;\n",
              "      height: 32px;\n",
              "      padding: 0 0 0 0;\n",
              "      width: 32px;\n",
              "    }\n",
              "\n",
              "    .colab-df-convert:hover {\n",
              "      background-color: #E2EBFA;\n",
              "      box-shadow: 0px 1px 2px rgba(60, 64, 67, 0.3), 0px 1px 3px 1px rgba(60, 64, 67, 0.15);\n",
              "      fill: #174EA6;\n",
              "    }\n",
              "\n",
              "    [theme=dark] .colab-df-convert {\n",
              "      background-color: #3B4455;\n",
              "      fill: #D2E3FC;\n",
              "    }\n",
              "\n",
              "    [theme=dark] .colab-df-convert:hover {\n",
              "      background-color: #434B5C;\n",
              "      box-shadow: 0px 1px 3px 1px rgba(0, 0, 0, 0.15);\n",
              "      filter: drop-shadow(0px 1px 2px rgba(0, 0, 0, 0.3));\n",
              "      fill: #FFFFFF;\n",
              "    }\n",
              "  </style>\n",
              "\n",
              "      <script>\n",
              "        const buttonEl =\n",
              "          document.querySelector('#df-f13889d6-fa2d-41b9-abb8-67812f83f618 button.colab-df-convert');\n",
              "        buttonEl.style.display =\n",
              "          google.colab.kernel.accessAllowed ? 'block' : 'none';\n",
              "\n",
              "        async function convertToInteractive(key) {\n",
              "          const element = document.querySelector('#df-f13889d6-fa2d-41b9-abb8-67812f83f618');\n",
              "          const dataTable =\n",
              "            await google.colab.kernel.invokeFunction('convertToInteractive',\n",
              "                                                     [key], {});\n",
              "          if (!dataTable) return;\n",
              "\n",
              "          const docLinkHtml = 'Like what you see? Visit the ' +\n",
              "            '<a target=\"_blank\" href=https://colab.research.google.com/notebooks/data_table.ipynb>data table notebook</a>'\n",
              "            + ' to learn more about interactive tables.';\n",
              "          element.innerHTML = '';\n",
              "          dataTable['output_type'] = 'display_data';\n",
              "          await google.colab.output.renderOutput(dataTable, element);\n",
              "          const docLink = document.createElement('div');\n",
              "          docLink.innerHTML = docLinkHtml;\n",
              "          element.appendChild(docLink);\n",
              "        }\n",
              "      </script>\n",
              "    </div>\n",
              "  </div>\n",
              "  "
            ]
          },
          "metadata": {},
          "execution_count": 38
        }
      ]
    },
    {
      "cell_type": "code",
      "metadata": {
        "colab": {
          "base_uri": "https://localhost:8080/",
          "height": 483
        },
        "id": "TqvlpdkEGozH",
        "outputId": "0c08ab69-b0e3-44e4-d509-10530f5e82fd"
      },
      "source": [
        "sns.kdeplot(df_data_ca['median_house_value']) #核密度圖(kdeplot)\n",
        "# sns.rugplot(df_data_ca['total_rooms'])"
      ],
      "execution_count": 39,
      "outputs": [
        {
          "output_type": "execute_result",
          "data": {
            "text/plain": [
              "<Axes: xlabel='median_house_value', ylabel='Density'>"
            ]
          },
          "metadata": {},
          "execution_count": 39
        },
        {
          "output_type": "display_data",
          "data": {
            "text/plain": [
              "<Figure size 640x480 with 1 Axes>"
            ],
            "image/png": "[encoded data removed]"
          },
          "metadata": {}
        }
      ]
    },
    {
      "cell_type": "code",
      "metadata": {
        "id": "tUkPNO1WHT2L",
        "colab": {
          "base_uri": "https://localhost:8080/",
          "height": 679
        },
        "outputId": "0df4bce4-986e-4290-e44a-1a7aa2eb5605"
      },
      "source": [
        "sns.distplot(df_data_ca['median_house_value'])    #直方圖(含KDE)(distplot)"
      ],
      "execution_count": 40,
      "outputs": [
        {
          "output_type": "stream",
          "name": "stderr",
          "text": [
            "<ipython-input-40-1a7101aa20cb>:1: UserWarning: \n",
            "\n",
            "`distplot` is a deprecated function and will be removed in seaborn v0.14.0.\n",
            "\n",
            "Please adapt your code to use either `displot` (a figure-level function with\n",
            "similar flexibility) or `histplot` (an axes-level function for histograms).\n",
            "\n",
            "For a guide to updating your code to use the new functions, please see\n",
            "https://gist.github.com/mwaskom/de44147ed2974457ad6372750bbe5751\n",
            "\n",
            "  sns.distplot(df_data_ca['median_house_value'])    #直方圖(含KDE)(distplot)\n"
          ]
        },
        {
          "output_type": "execute_result",
          "data": {
            "text/plain": [
              "<Axes: xlabel='median_house_value', ylabel='Density'>"
            ]
          },
          "metadata": {},
          "execution_count": 40
        },
        {
          "output_type": "display_data",
          "data": {
            "text/plain": [
              "<Figure size 640x480 with 1 Axes>"
            ],
            "image/png": "[encoded data removed]"
          },
          "metadata": {}
        }
      ]
    },
    {
      "cell_type": "code",
      "metadata": {
        "id": "iBXOuRMZHpHz",
        "colab": {
          "base_uri": "https://localhost:8080/",
          "height": 524
        },
        "outputId": "e5fb1a0f-390d-4423-b758-2dd123ce6618"
      },
      "source": [
        "sns.displot(df_data_ca, x='median_house_value')"
      ],
      "execution_count": 41,
      "outputs": [
        {
          "output_type": "execute_result",
          "data": {
            "text/plain": [
              "<seaborn.axisgrid.FacetGrid at 0x7f0f5e34b490>"
            ]
          },
          "metadata": {},
          "execution_count": 41
        },
        {
          "output_type": "display_data",
          "data": {
            "text/plain": [
              "<Figure size 500x500 with 1 Axes>"
            ],
            "image/png": "[encoded data removed]"
          },
          "metadata": {}
        }
      ]
    },
    {
      "cell_type": "code",
      "metadata": {
        "id": "QfXzFKNsNDHp",
        "colab": {
          "base_uri": "https://localhost:8080/",
          "height": 524
        },
        "outputId": "d9def1a8-f929-4f15-a9ab-6aa0017c6f8f"
      },
      "source": [
        "sns.displot(df_data_ca.query('median_house_value<500000'), x='median_house_value')"
      ],
      "execution_count": 42,
      "outputs": [
        {
          "output_type": "execute_result",
          "data": {
            "text/plain": [
              "<seaborn.axisgrid.FacetGrid at 0x7f0f5c1fcca0>"
            ]
          },
          "metadata": {},
          "execution_count": 42
        },
        {
          "output_type": "display_data",
          "data": {
            "text/plain": [
              "<Figure size 500x500 with 1 Axes>"
            ],
            "image/png": "[encoded data removed]"
          },
          "metadata": {}
        }
      ]
    },
    {
      "cell_type": "code",
      "metadata": {
        "id": "8IfLgSJFJti5"
      },
      "source": [
        "# （某個欄位-欄位平均）/\n",
        "# z-score"
      ],
      "execution_count": 43,
      "outputs": []
    },
    {
      "cell_type": "code",
      "metadata": {
        "id": "WUpd6lFwNVx-"
      },
      "source": [
        "# scaler = StandardScaler()  #重要性都先做一樣 ,任何模型必用，有點像z-score\n",
        "# scaler = scaler.fit(train_X1)\n",
        "# scaled_x = scaler.transform(train_X1)      #轉換後的結果\n",
        " \n",
        "\n",
        "# print(scaler.fit(data))\n",
        "# print(scaler)\n",
        "\n",
        "\n",
        "\n",
        "\n",
        "\n",
        "\n",
        "# scaler = StandardScaler()\n",
        "# print(scaler.fit(data))\n",
        "\n",
        "# print(scaler.mean_)\n",
        "\n",
        "# print(scaler.transform(data))\n"
      ],
      "execution_count": 44,
      "outputs": []
    },
    {
      "cell_type": "code",
      "metadata": {
        "id": "lMf5z-dBubnG"
      },
      "source": [
        "# np.mean(np.abs(model_reg.predict(X1) - test_Y))\n",
        "# #MAE"
      ],
      "execution_count": 45,
      "outputs": []
    },
    {
      "cell_type": "code",
      "metadata": {
        "id": "RdYA8hb71yI5"
      },
      "source": [
        "# train_X1['new_x1'] = train_X1['housing_median_age']*train_X1['total_rooms']\n",
        "# train_X1['new_x2'] = train_X1['housing_median_age']/train_X1['total_rooms']"
      ],
      "execution_count": 46,
      "outputs": []
    },
    {
      "cell_type": "code",
      "metadata": {
        "id": "uxPPgmuz3bBn"
      },
      "source": [
        "# train_X1"
      ],
      "execution_count": 47,
      "outputs": []
    },
    {
      "cell_type": "code",
      "metadata": {
        "id": "VuG9lx_Z3eLG"
      },
      "source": [
        "# reg.coef_"
      ],
      "execution_count": 48,
      "outputs": []
    },
    {
      "cell_type": "code",
      "metadata": {
        "id": "SHsQhJBs3hK-"
      },
      "source": [
        " "
      ],
      "execution_count": 48,
      "outputs": []
    },
    {
      "cell_type": "markdown",
      "metadata": {
        "id": "x9srUKRSBIv0"
      },
      "source": [
        "sklearn.feature_selection"
      ]
    },
    {
      "cell_type": "code",
      "metadata": {
        "id": "xkFDkSVFBezN"
      },
      "source": [
        "from sklearn.feature_selection import RFE"
      ],
      "execution_count": 49,
      "outputs": []
    },
    {
      "cell_type": "code",
      "metadata": {
        "id": "sbP81bbEB4Wu"
      },
      "source": [
        "# reg = LinearRegression().fit(train_scaled_x, train_Y)"
      ],
      "execution_count": 50,
      "outputs": []
    },
    {
      "cell_type": "code",
      "metadata": {
        "id": "L5z16SOiCh8k",
        "colab": {
          "base_uri": "https://localhost:8080/",
          "height": 173
        },
        "outputId": "ff5ef801-cc79-4c2d-8cd6-296890cab574"
      },
      "source": [
        "train_X1.columns[rfe.get_support()]"
      ],
      "execution_count": 52,
      "outputs": [
        {
          "output_type": "error",
          "ename": "NameError",
          "evalue": "ignored",
          "traceback": [
            "\u001b[0;31m---------------------------------------------------------------------------\u001b[0m",
            "\u001b[0;31mNameError\u001b[0m                                 Traceback (most recent call last)",
            "\u001b[0;32m<ipython-input-52-249b9db8aa1f>\u001b[0m in \u001b[0;36m<cell line: 1>\u001b[0;34m()\u001b[0m\n\u001b[0;32m----> 1\u001b[0;31m \u001b[0mtrain_X1\u001b[0m\u001b[0;34m.\u001b[0m\u001b[0mcolumns\u001b[0m\u001b[0;34m[\u001b[0m\u001b[0mrfe\u001b[0m\u001b[0;34m.\u001b[0m\u001b[0mget_support\u001b[0m\u001b[0;34m(\u001b[0m\u001b[0;34m)\u001b[0m\u001b[0;34m]\u001b[0m\u001b[0;34m\u001b[0m\u001b[0;34m\u001b[0m\u001b[0m\n\u001b[0m",
            "\u001b[0;31mNameError\u001b[0m: name 'train_X1' is not defined"
          ]
        }
      ]
    },
    {
      "cell_type": "code",
      "metadata": {
        "id": "TrZ-jK-sCqDw"
      },
      "source": [
        "mean_absolute_error(train_Y, rfe.predict(train_scaled_x))"
      ],
      "execution_count": null,
      "outputs": []
    },
    {
      "cell_type": "code",
      "metadata": {
        "id": "iCy29txoCX4Q"
      },
      "source": [
        "train_X1.head(3)"
      ],
      "execution_count": null,
      "outputs": []
    },
    {
      "cell_type": "markdown",
      "metadata": {
        "id": "4VwHMIs0BkLI"
      },
      "source": [
        "svr等同於線性回歸 (linregreation)"
      ]
    }
  ]
}